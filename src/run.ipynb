{
 "cells": [
  {
   "cell_type": "code",
   "execution_count": 1,
   "metadata": {},
   "outputs": [],
   "source": [
    "from misc_functions import get_example_params, save_gradient_images, convert_to_grayscale, get_positive_negative_saliency\n",
    "from guided_backprop import GuidedBackprop\n",
    "import layer_activation_with_guided_backprop\n",
    "from cnn_layer_visualization import CNNLayerVisualization\n",
    "import models"
   ]
  },
  {
   "cell_type": "code",
   "execution_count": 2,
   "metadata": {},
   "outputs": [
    {
     "name": "stdout",
     "output_type": "stream",
     "text": [
      "models :  ['simplenet_cifar_310k', 'simplenet_cifar_460k', 'simplenet_cifar_5m', 'simplenet_cifar_5m_extra_pool']\n"
     ]
    },
    {
     "name": "stderr",
     "output_type": "stream",
     "text": [
      "c:\\Users\\iustin.grigoras\\AppData\\Local\\anaconda3\\envs\\mytorch\\lib\\site-packages\\torch\\nn\\modules\\module.py:1359: UserWarning: Using a non-full backward hook when the forward contains multiple autograd Nodes is deprecated and will be removed in future versions. This hook will be missing some grad_input. Please use register_full_backward_hook to get the documented behavior.\n",
      "  warnings.warn(\"Using a non-full backward hook when the forward contains multiple autograd Nodes \"\n"
     ]
    },
    {
     "name": "stdout",
     "output_type": "stream",
     "text": [
      "Guided backprop completed\n"
     ]
    }
   ],
   "source": [
    "target_example = 0  # Snake\n",
    "(original_image, prep_img, target_class, file_name_to_export, pretrained_model) =\\\n",
    "    get_example_params(target_example)\n",
    "\n",
    "# Guided backprop\n",
    "GBP = GuidedBackprop(pretrained_model)\n",
    "# Get gradients\n",
    "guided_grads = GBP.generate_gradients(prep_img, target_class)\n",
    "# Save colored gradients\n",
    "save_gradient_images(guided_grads, file_name_to_export + '_Guided_BP_color')\n",
    "# Convert to grayscale\n",
    "grayscale_guided_grads = convert_to_grayscale(guided_grads)\n",
    "# Save grayscale gradients\n",
    "save_gradient_images(grayscale_guided_grads, file_name_to_export + '_Guided_BP_gray')\n",
    "# Positive and negative saliency maps\n",
    "pos_sal, neg_sal = get_positive_negative_saliency(guided_grads)\n",
    "save_gradient_images(pos_sal, file_name_to_export + '_pos_sal')\n",
    "save_gradient_images(neg_sal, file_name_to_export + '_neg_sal')\n",
    "print('Guided backprop completed')"
   ]
  },
  {
   "cell_type": "code",
   "execution_count": 3,
   "metadata": {},
   "outputs": [
    {
     "name": "stdout",
     "output_type": "stream",
     "text": [
      "models :  ['simplenet_cifar_310k', 'simplenet_cifar_460k', 'simplenet_cifar_5m', 'simplenet_cifar_5m_extra_pool']\n",
      "Layer Guided backprop completed\n"
     ]
    }
   ],
   "source": [
    "cnn_layer = 13\n",
    "filter_pos = 5\n",
    "target_example = 1  # digit 7\n",
    "(original_image, prep_img, target_class, file_name_to_export, net) =\\\n",
    "    get_example_params(target_example)\n",
    "\n",
    "# File export name\n",
    "file_name_to_export = file_name_to_export + '_layer' + str(cnn_layer) + '_filter' + str(filter_pos)\n",
    "# Guided backprop\n",
    "GBP = GuidedBackprop(net)\n",
    "# Get gradients\n",
    "guided_grads = GBP.generate_gradients(prep_img, target_class)\n",
    "# Save colored gradients\n",
    "save_gradient_images(guided_grads, file_name_to_export + '_Guided_BP_color')\n",
    "# Convert to grayscale\n",
    "grayscale_guided_grads = convert_to_grayscale(guided_grads)\n",
    "# Save grayscale gradients\n",
    "save_gradient_images(grayscale_guided_grads, file_name_to_export + '_Guided_BP_gray')\n",
    "# Positive and negative saliency maps\n",
    "pos_sal, neg_sal = get_positive_negative_saliency(guided_grads)\n",
    "save_gradient_images(pos_sal, file_name_to_export + '_pos_sal')\n",
    "save_gradient_images(neg_sal, file_name_to_export + '_neg_sal')\n",
    "print('Layer Guided backprop completed') "
   ]
  },
  {
   "cell_type": "code",
   "execution_count": 5,
   "metadata": {},
   "outputs": [
    {
     "name": "stdout",
     "output_type": "stream",
     "text": [
      "could not transform PIL_img to a PIL Image object. Please check input.\n",
      "Iteration: 1 Loss: 0.47\n",
      "Iteration: 2 Loss: 0.45\n",
      "Iteration: 3 Loss: 0.42\n",
      "Iteration: 4 Loss: 0.39\n",
      "Iteration: 5 Loss: 0.37\n",
      "Iteration: 6 Loss: 0.35\n",
      "Iteration: 7 Loss: 0.34\n",
      "Iteration: 8 Loss: 0.33\n",
      "Iteration: 9 Loss: 0.32\n",
      "Iteration: 10 Loss: 0.31\n",
      "Iteration: 11 Loss: 0.30\n",
      "Iteration: 12 Loss: 0.29\n",
      "Iteration: 13 Loss: 0.28\n",
      "Iteration: 14 Loss: 0.28\n",
      "Iteration: 15 Loss: 0.27\n",
      "Iteration: 16 Loss: 0.27\n",
      "Iteration: 17 Loss: 0.26\n",
      "Iteration: 18 Loss: 0.26\n",
      "Iteration: 19 Loss: 0.25\n",
      "Iteration: 20 Loss: 0.25\n",
      "Iteration: 21 Loss: 0.24\n",
      "Iteration: 22 Loss: 0.24\n",
      "Iteration: 23 Loss: 0.24\n",
      "Iteration: 24 Loss: 0.23\n",
      "Iteration: 25 Loss: 0.23\n",
      "Iteration: 26 Loss: 0.23\n",
      "Iteration: 27 Loss: 0.22\n",
      "Iteration: 28 Loss: 0.22\n",
      "Iteration: 29 Loss: 0.22\n",
      "Iteration: 30 Loss: 0.22\n"
     ]
    }
   ],
   "source": [
    "cnn_layer = 13\n",
    "filter_pos = 3\n",
    "# Fully connected layer is not needed\n",
    "# pretrained_model = models.vgg16(pretrained=True).features\n",
    "net = models.__dict__['simplenet_cifar_310k'](num_classes=10, in_chans=1)\n",
    "layer_vis = CNNLayerVisualization(net, cnn_layer, filter_pos)\n",
    "\n",
    "# Layer visualization with pytorch hooks\n",
    "layer_vis.visualise_layer_with_hooks()\n",
    "\n",
    "# Layer visualization without pytorch hooks\n",
    "# layer_vis.visualise_layer_without_hooks()"
   ]
  }
 ],
 "metadata": {
  "kernelspec": {
   "display_name": "Python 3",
   "language": "python",
   "name": "python3"
  },
  "language_info": {
   "codemirror_mode": {
    "name": "ipython",
    "version": 3
   },
   "file_extension": ".py",
   "mimetype": "text/x-python",
   "name": "python",
   "nbconvert_exporter": "python",
   "pygments_lexer": "ipython3",
   "version": "3.10.13"
  }
 },
 "nbformat": 4,
 "nbformat_minor": 2
}
